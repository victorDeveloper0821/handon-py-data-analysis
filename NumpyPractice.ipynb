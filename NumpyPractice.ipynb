{
 "cells": [
  {
   "cell_type": "markdown",
   "metadata": {},
   "source": [
    "# Numpy 的練習\n",
    "Numpy 可以做什麼？\n",
    "- 多維度陣列（e.g. 影像)運算\n",
    "- 應用於資料處理，是各種 library 的基礎，而 Pandas 的部分運算有有使用到 Numpy\n",
    "- 資料科學中的基礎\n",
    "\n",
    "接者我們要先 import 套件"
   ]
  },
  {
   "cell_type": "code",
   "execution_count": 3,
   "metadata": {},
   "outputs": [
    {
     "data": {
      "text/plain": [
       "array([0, 1, 2, 3, 4, 5, 6, 7, 8])"
      ]
     },
     "execution_count": 3,
     "metadata": {},
     "output_type": "execute_result"
    }
   ],
   "source": [
    "import numpy as np \n",
    "\n",
    "np.arange(0,9)"
   ]
  },
  {
   "cell_type": "markdown",
   "metadata": {},
   "source": [
    "## Numpy 的基本觀念\n",
    "- multiple dimensional & Shape\n",
    "- data pre-processing\n"
   ]
  },
  {
   "cell_type": "markdown",
   "metadata": {},
   "source": [
    "### 多維陣列跟 shape \n",
    "- 宣告 array 時可以使用 `ndim` 來查看其 array 的維度\n",
    "- 可以用 `size` 查看 array 的長度\n",
    "- shape 的 tuple 中傳入的數字相乘結果一定要跟 array 長度一樣才可以用 `reshape`\n",
    "\n",
    "\n",
    "而一個陣列可以編排成不同 shape ，而 shape 的觀念可以轉換成是矩形的面積或體積\n",
    "[Link Here]('https://openhome.cc/Gossip/DCHardWay/NdimShapeAxis.html')\n",
    "![alt text](./numpy/npShape.png \"Title\")"
   ]
  },
  {
   "cell_type": "code",
   "execution_count": 4,
   "metadata": {},
   "outputs": [
    {
     "name": "stdout",
     "output_type": "stream",
     "text": [
      "Array1 維度: 1\n",
      "Array1 長度: 6\n",
      "Array1 Shape: (6,)\n",
      "[0 1 2 3 4 5]\n",
      "Array2 維度: 2\n",
      "Array2 長度: 6\n",
      "Array2 Shape: (2, 3)\n"
     ]
    },
    {
     "ename": "ValueError",
     "evalue": "cannot reshape array of size 6 into shape (2,2,3)",
     "output_type": "error",
     "traceback": [
      "\u001b[0;31m---------------------------------------------------------------------------\u001b[0m",
      "\u001b[0;31mValueError\u001b[0m                                Traceback (most recent call last)",
      "Cell \u001b[0;32mIn[4], line 15\u001b[0m\n\u001b[1;32m     12\u001b[0m \u001b[38;5;28mprint\u001b[39m(\u001b[38;5;124m'\u001b[39m\u001b[38;5;124mArray2 Shape:\u001b[39m\u001b[38;5;124m'\u001b[39m,array2\u001b[38;5;241m.\u001b[39mshape)\n\u001b[1;32m     14\u001b[0m \u001b[38;5;66;03m## 此處程式會錯誤，無法轉換 array \u001b[39;00m\n\u001b[0;32m---> 15\u001b[0m \u001b[38;5;28mprint\u001b[39m(\u001b[43marray2\u001b[49m\u001b[38;5;241;43m.\u001b[39;49m\u001b[43mreshape\u001b[49m\u001b[43m(\u001b[49m\u001b[38;5;241;43m2\u001b[39;49m\u001b[43m,\u001b[49m\u001b[38;5;241;43m2\u001b[39;49m\u001b[43m,\u001b[49m\u001b[38;5;241;43m3\u001b[39;49m\u001b[43m)\u001b[49m)\n",
      "\u001b[0;31mValueError\u001b[0m: cannot reshape array of size 6 into shape (2,2,3)"
     ]
    }
   ],
   "source": [
    "# 宣告一個陣列\n",
    "array1 = np.arange(0,6)\n",
    "print('Array1 維度:',array1.ndim)\n",
    "print('Array1 長度:', array1.size)\n",
    "print('Array1 Shape:',array1.shape)\n",
    "# 1-d array\n",
    "print(array1)\n",
    "# 2-d array\n",
    "array2 = array1.copy().reshape((2,3))\n",
    "print('Array2 維度:',array2.ndim)\n",
    "print('Array2 長度:', array2.size)\n",
    "print('Array2 Shape:',array2.shape)\n",
    "\n",
    "## 此處程式會錯誤，無法轉換 array \n",
    "print(array2.reshape(2,2,3))"
   ]
  }
 ],
 "metadata": {
  "kernelspec": {
   "display_name": "dataScience",
   "language": "python",
   "name": "python3"
  },
  "language_info": {
   "codemirror_mode": {
    "name": "ipython",
    "version": 3
   },
   "file_extension": ".py",
   "mimetype": "text/x-python",
   "name": "python",
   "nbconvert_exporter": "python",
   "pygments_lexer": "ipython3",
   "version": "3.10.13"
  }
 },
 "nbformat": 4,
 "nbformat_minor": 2
}
