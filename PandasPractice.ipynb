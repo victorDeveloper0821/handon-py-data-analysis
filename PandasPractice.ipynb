{
 "cells": [
  {
   "cell_type": "markdown",
   "metadata": {},
   "source": [
    "# Pandas 可以用來做什麼\n",
    "用於處理二維資料的數據分析，通常用於資料前處理、group聚和運算\n",
    "\n",
    "結構上分為以下 3 種:\n",
    "- Series \n",
    "- DataFrame\n",
    "- Panel (較不常用)"
   ]
  },
  {
   "cell_type": "code",
   "execution_count": null,
   "metadata": {},
   "outputs": [],
   "source": [
    "import pandas as pd \n"
   ]
  }
 ],
 "metadata": {
  "kernelspec": {
   "display_name": "dataScience",
   "language": "python",
   "name": "python3"
  },
  "language_info": {
   "name": "python",
   "version": "3.11.3"
  }
 },
 "nbformat": 4,
 "nbformat_minor": 2
}
