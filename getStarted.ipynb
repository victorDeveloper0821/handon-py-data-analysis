{
 "cells": [
  {
   "cell_type": "markdown",
   "id": "b65f99cd-fb80-4347-8b31-3d0a671a2b0e",
   "metadata": {},
   "source": [
    "# 模組安裝步驟 check List \n",
    "測試資料分析的相關套件、依賴是否有成功安裝"
   ]
  },
  {
   "cell_type": "code",
   "execution_count": 1,
   "id": "a941ef1d-fe41-4cd1-9b5a-53987dec4f58",
   "metadata": {},
   "outputs": [
    {
     "name": "stdout",
     "output_type": "stream",
     "text": [
      "Intel MKL WARNING: Support of Intel(R) Streaming SIMD Extensions 4.2 (Intel(R) SSE4.2) enabled only processors has been deprecated. Intel oneAPI Math Kernel Library 2025.0 will require Intel(R) Advanced Vector Extensions (Intel(R) AVX) instructions.\n",
      "Intel MKL WARNING: Support of Intel(R) Streaming SIMD Extensions 4.2 (Intel(R) SSE4.2) enabled only processors has been deprecated. Intel oneAPI Math Kernel Library 2025.0 will require Intel(R) Advanced Vector Extensions (Intel(R) AVX) instructions.\n"
     ]
    }
   ],
   "source": [
    "## import numpy and pandas\n",
    "import numpy as np\n",
    "import pandas as pd"
   ]
  },
  {
   "cell_type": "code",
   "execution_count": 2,
   "id": "ee4fc1f7-17d5-4cfe-82f3-4a734e25d876",
   "metadata": {},
   "outputs": [
    {
     "name": "stdout",
     "output_type": "stream",
     "text": [
      "軟體版本確認 Package version check !\n",
      "Numpy with version:  1.26.3\n",
      "Pandas with version:  2.1.4\n"
     ]
    }
   ],
   "source": [
    "## numpy and pandas version check\n",
    "print('軟體版本確認 Package version check !')\n",
    "\n",
    "print('Numpy with version: ', np.__version__)\n",
    "\n",
    "print('Pandas with version: ', pd.__version__)"
   ]
  },
  {
   "cell_type": "markdown",
   "id": "1fdbc096",
   "metadata": {},
   "source": [
    "## 套件的小小範例:\n",
    "套件使用的小範例，用於證明軟體安裝成功\n",
    "\n",
    "### Numpy 基本範例: \n",
    "建立一個基本陣列 "
   ]
  },
  {
   "cell_type": "code",
   "execution_count": 3,
   "id": "e8597f1d",
   "metadata": {},
   "outputs": [
    {
     "name": "stdout",
     "output_type": "stream",
     "text": [
      "print 1st array:  [ 4  5  6  7  8  9 10 11 12 13]\n",
      "print 2nd array:  [-4.  -3.5 -3.  -2.5 -2.  -1.5 -1.  -0.5  0.   0.5  1.   1.5  2.   2.5\n",
      "  3.   3.5]\n",
      "reshape 1st array to 2X5 matrix:  [[ 4  5  6  7  8]\n",
      " [ 9 10 11 12 13]]\n",
      "reshape 1st array to 5X2 matrix:  [[ 4  5]\n",
      " [ 6  7]\n",
      " [ 8  9]\n",
      " [10 11]\n",
      " [12 13]]\n"
     ]
    }
   ],
   "source": [
    "# create array with integer type\n",
    "array1 = np.arange(4,14, dtype=int)\n",
    "print (\"print 1st array: \",array1)\n",
    "\n",
    "# create array with float type\n",
    "array2 = np.arange(-4,4,0.5)\n",
    "print(\"print 2nd array: \", array2)\n",
    "\n",
    "# create matrixs from an array\n",
    "print('reshape 1st array to 2X5 matrix: ', array1.reshape(2,5))\n",
    "print('reshape 1st array to 5X2 matrix: ', array1.reshape(5,2))"
   ]
  },
  {
   "cell_type": "markdown",
   "id": "d18e3f6a",
   "metadata": {},
   "source": [
    "### Pandas 基本範例: \n",
    "使用 Pandas 建立 Series 資料"
   ]
  },
  {
   "cell_type": "code",
   "execution_count": 4,
   "id": "201f6199",
   "metadata": {},
   "outputs": [
    {
     "name": "stdout",
     "output_type": "stream",
     "text": [
      "0    0\n",
      "1    1\n",
      "2    2\n",
      "3    3\n",
      "4    4\n",
      "5    5\n",
      "6    6\n",
      "7    7\n",
      "8    8\n",
      "9    9\n",
      "dtype: int64\n",
      "a    0\n",
      "b    1\n",
      "c    2\n",
      "d    3\n",
      "e    4\n",
      "dtype: int64\n"
     ]
    }
   ],
   "source": [
    "# create a series with indexs through pandas\n",
    "series1 = pd.Series(np.arange(0,10))\n",
    "print(series1)\n",
    "series2 = pd.Series(np.arange(0,5),index=['a','b','c','d','e'])\n",
    "print(series2)"
   ]
  },
  {
   "cell_type": "markdown",
   "id": "a1316d12-b524-4f1e-8fbe-a37c0b2d399d",
   "metadata": {},
   "source": [
    "**如果上述測試都成功代表，軟體已安裝成功**"
   ]
  }
 ],
 "metadata": {
  "kernelspec": {
   "display_name": "Python 3 (ipykernel)",
   "language": "python",
   "name": "python3"
  },
  "language_info": {
   "codemirror_mode": {
    "name": "ipython",
    "version": 3
   },
   "file_extension": ".py",
   "mimetype": "text/x-python",
   "name": "python",
   "nbconvert_exporter": "python",
   "pygments_lexer": "ipython3",
   "version": "3.11.3"
  }
 },
 "nbformat": 4,
 "nbformat_minor": 5
}
